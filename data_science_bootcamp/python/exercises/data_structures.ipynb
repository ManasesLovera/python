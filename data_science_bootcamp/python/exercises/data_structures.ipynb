{
 "cells": [
  {
   "cell_type": "markdown",
   "id": "5cc3e61f",
   "metadata": {},
   "source": [
    "# Data Structure excercise"
   ]
  },
  {
   "cell_type": "markdown",
   "id": "87639161",
   "metadata": {},
   "source": [
    "## Test function"
   ]
  },
  {
   "cell_type": "markdown",
   "id": "cfc7c673",
   "metadata": {},
   "source": [
    "Run the following cell to enable the tests. 👇"
   ]
  },
  {
   "cell_type": "code",
   "execution_count": null,
   "id": "568a8d44",
   "metadata": {},
   "outputs": [],
   "source": [
    "# Test function\n",
    "from typing import List, Dict, Callable, Any\n",
    "\n",
    "def test_function(\n",
    "        func: Callable[..., Any], \n",
    "        test_cases: List[Dict[str, Any]]\n",
    "        ) -> None:\n",
    "\n",
    "    failed_values: List = []\n",
    "    for case in test_cases:\n",
    "        expected_result = case['expected_result']\n",
    "        test_case = case['test_case']\n",
    "        result = None\n",
    "        try:\n",
    "            # ❌ Reject dicts explicitly\n",
    "            if isinstance(test_case, dict):\n",
    "                raise TypeError(\"Dicts are not allowed as test case values.\")\n",
    "            \n",
    "            # Unpack tuple or set\n",
    "            if isinstance(test_case, (tuple, set)):\n",
    "                result = func(*test_case)\n",
    "            else:\n",
    "                result = func(test_case)\n",
    "            assert result == expected_result\n",
    "\n",
    "        except AssertionError:\n",
    "            print(f\"❌ Test failed for case: {test_case}\")\n",
    "            print(f\"Expected: {expected_result}, but got: {result}\")\n",
    "            failed_values.append(case)\n",
    "        except TypeError as e:\n",
    "            print(f\"❌ Type error for case: {test_case}\")\n",
    "            print(f\"Error message: {e}\")\n",
    "            failed_values.append(case)\n",
    "        except Exception as e:\n",
    "            print(f\"An error occurred: {e}\")\n",
    "            failed_values.append(case)\n",
    "\n",
    "    if not failed_values:\n",
    "        print(\"✅ All tests passed!\")"
   ]
  },
  {
   "cell_type": "markdown",
   "id": "9aca57c3",
   "metadata": {},
   "source": [
    "## Excercise 1"
   ]
  },
  {
   "cell_type": "code",
   "execution_count": 11,
   "id": "436606cc",
   "metadata": {},
   "outputs": [
    {
     "name": "stdout",
     "output_type": "stream",
     "text": [
      "✅ All tests passed!\n"
     ]
    }
   ],
   "source": [
    "\"\"\" \n",
    "Sum of List Elements\n",
    "Problem Description\n",
    "\n",
    "Sum of List Elements\n",
    "\n",
    "Write a Python function that calculates the sum of all elements in a given list of integers.\n",
    "\n",
    "Parameters:\n",
    "\n",
    "numbers (List of integers): The input list containing integers.\n",
    "\n",
    "Returns:\n",
    "\n",
    "An integer representing the sum of all elements in the input list.\n",
    "\n",
    "Example:\n",
    "\n",
    "Input: numbers = [1, 2, 3, 4, 5]\n",
    "Output: 15\n",
    "\n",
    "Input: numbers = [10, -5, 7, 8, -2]\n",
    "Output: 18\n",
    "\"\"\"\n",
    "\n",
    "from functools import reduce\n",
    "\n",
    "def sum_list(numbers):\n",
    "    # Your code goes here\n",
    "    return reduce(lambda acc, x: acc + x, numbers, 0)\n",
    "\n",
    "# Define test cases\n",
    "test_cases = [\n",
    "    {\n",
    "        'test_case': [1, 2, 3, 4, 5],\n",
    "        'expected_result': 15\n",
    "    },\n",
    "    {\n",
    "        'test_case': [10, -5, 7, 8, -2],\n",
    "        'expected_result': 18\n",
    "    },\n",
    "    {\n",
    "        'test_case': [],\n",
    "        'expected_result': 0\n",
    "    },\n",
    "    {\n",
    "        'test_case': [100],\n",
    "        'expected_result': 100\n",
    "    },\n",
    "    {\n",
    "        'test_case': [-1, -2, -3],\n",
    "        'expected_result': -6\n",
    "    }\n",
    "]\n",
    "\n",
    "# Run the test function\n",
    "test_function(sum_list, test_cases)\n"
   ]
  },
  {
   "cell_type": "markdown",
   "id": "d90e1021",
   "metadata": {},
   "source": [
    "## Excercise 2"
   ]
  },
  {
   "cell_type": "code",
   "execution_count": 12,
   "id": "2f771097",
   "metadata": {},
   "outputs": [
    {
     "name": "stdout",
     "output_type": "stream",
     "text": [
      "✅ All tests passed!\n"
     ]
    }
   ],
   "source": [
    "\"\"\"\n",
    "Largest Element in a List\n",
    "Find the Largest Element in a List\n",
    "\n",
    "Write a Python function that finds and returns the largest element in a given list of integers.\n",
    "\n",
    "Parameters:\n",
    "\n",
    "numbers (List of integers): The input list containing integers.\n",
    "\n",
    "Returns:\n",
    "\n",
    "An integer representing the largest element in the input list.\n",
    "\n",
    "Example:\n",
    "\n",
    "Input: numbers = [3, 8, 2, 10, 5]\n",
    "Output: 10\n",
    "\n",
    "Input: numbers = [-5, -10, -2, -1, -7]\n",
    "Output: -1\n",
    "\"\"\"\n",
    "\n",
    "def find_largest(numbers):\n",
    "\n",
    "    if not numbers:\n",
    "        return None\n",
    "    \n",
    "    largest = numbers[0]\n",
    "    for number in numbers[1:]:\n",
    "        if number > largest:\n",
    "            largest = number\n",
    "\n",
    "    return largest\n",
    "\n",
    "# Define test cases\n",
    "test_cases_largest = [\n",
    "    {\n",
    "        'test_case': [3, 8, 2, 10, 5],\n",
    "        'expected_result': 10\n",
    "    },\n",
    "    {\n",
    "        'test_case': [-5, -10, -2, -1, -7],\n",
    "        'expected_result': -1\n",
    "    },\n",
    "    {\n",
    "        'test_case': [1],\n",
    "        'expected_result': 1\n",
    "    },\n",
    "    {\n",
    "        'test_case': [100, 200, 300],\n",
    "        'expected_result': 300\n",
    "    },\n",
    "    {\n",
    "        'test_case': [],\n",
    "        'expected_result': None  # Assuming we return None for an empty list\n",
    "    }\n",
    "]\n",
    "\n",
    "# Run the test function\n",
    "test_function(find_largest, test_cases_largest)"
   ]
  }
 ],
 "metadata": {
  "kernelspec": {
   "display_name": "venv",
   "language": "python",
   "name": "python3"
  },
  "language_info": {
   "codemirror_mode": {
    "name": "ipython",
    "version": 3
   },
   "file_extension": ".py",
   "mimetype": "text/x-python",
   "name": "python",
   "nbconvert_exporter": "python",
   "pygments_lexer": "ipython3",
   "version": "3.12.10"
  }
 },
 "nbformat": 4,
 "nbformat_minor": 5
}
