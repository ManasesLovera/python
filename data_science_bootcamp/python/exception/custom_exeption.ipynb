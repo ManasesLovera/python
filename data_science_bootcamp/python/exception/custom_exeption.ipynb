{
 "cells": [
  {
   "cell_type": "markdown",
   "id": "0b1d410c",
   "metadata": {},
   "source": [
    "## Custom exception (Raise and Throw an exception)\n",
    "Custom exceptions in Python allow you to define your own exception types, extending the built-in exception hierarchy. This enables you to raise and catch errors specific to your application's logic.\n",
    "\n",
    "*   **Raise:** The `raise` keyword is used to throw an exception. You can raise built-in exceptions or custom exceptions.\n",
    "*   **Throw:** \"Throw\" is a general term for signaling that an error or exceptional condition has occurred. In Python, this is done using the `raise` keyword."
   ]
  },
  {
   "cell_type": "code",
   "execution_count": 1,
   "id": "f41cd0c2",
   "metadata": {},
   "outputs": [],
   "source": [
    "class Error(Exception):\n",
    "    pass\n",
    "\n",
    "class dobException(Error):\n",
    "    pass"
   ]
  },
  {
   "cell_type": "code",
   "execution_count": null,
   "id": "dc162601",
   "metadata": {},
   "outputs": [
    {
     "name": "stdout",
     "output_type": "stream",
     "text": [
      "The age is valid so you can apply for the exam\n"
     ]
    }
   ],
   "source": [
    "year = int(input(\"Enter the date of birth: \"))\n",
    "age = 2024 - year\n",
    "\n",
    "try:\n",
    "    if age <= 30 and age >= 20:\n",
    "        print(\"The age is valid so you can apply for the exam\")\n",
    "    else:\n",
    "        raise dobException\n",
    "except dobException:\n",
    "    print(\"Sorry, your age should be greater than 20 and less than 30\")s"
   ]
  }
 ],
 "metadata": {
  "kernelspec": {
   "display_name": "venv",
   "language": "python",
   "name": "python3"
  },
  "language_info": {
   "codemirror_mode": {
    "name": "ipython",
    "version": 3
   },
   "file_extension": ".py",
   "mimetype": "text/x-python",
   "name": "python",
   "nbconvert_exporter": "python",
   "pygments_lexer": "ipython3",
   "version": "3.13.2"
  }
 },
 "nbformat": 4,
 "nbformat_minor": 5
}
