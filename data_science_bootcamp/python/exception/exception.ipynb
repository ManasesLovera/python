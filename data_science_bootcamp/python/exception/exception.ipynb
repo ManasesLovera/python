{
 "cells": [
  {
   "cell_type": "markdown",
   "id": "2c872bc0",
   "metadata": {},
   "source": [
    "## Understanding Exceptions\n",
    "Exception handling in python allows you to handle errors gracefully and take corrective actions without stopping the execution or the program."
   ]
  },
  {
   "cell_type": "markdown",
   "id": "81782e8b",
   "metadata": {},
   "source": [
    "## What are Exceptions?\n",
    "Exceptions are events that disrupt the normal flow or a program. They occur when an error is encountered during program execution. Common exceptions include:\n",
    "- ZeroDivisionError: Dividing by zero.\n",
    "- FileNotFoundError: File not found.\n",
    "- ValueError: Invalid value.\n",
    "- NameError: variable is not defined."
   ]
  },
  {
   "cell_type": "code",
   "execution_count": null,
   "id": "fc543db2",
   "metadata": {},
   "outputs": [],
   "source": [
    "\"\"\"\n",
    "NameError\n",
    "This code will raise a NameError because 'b' is not defined before it is used.\n",
    "\"\"\"\n",
    "a=b\n",
    "\n",
    "# This code will not run because of the NameError.\n",
    "print(\"The value of a is: \", a)"
   ]
  },
  {
   "cell_type": "code",
   "execution_count": null,
   "id": "042e31cd",
   "metadata": {},
   "outputs": [],
   "source": [
    "# How to handle exceptions?\n",
    "# Exception try, except, block\n",
    "\n",
    "a = None  # Initialize a\n",
    "\n",
    "try:\n",
    "    a = b\n",
    "except NameError as e:\n",
    "    print(f\"NameError: {e}\")\n",
    "\n",
    "# This code will run after handling the exception.\n",
    "print(f\"The value of a is: {a if a is not None else 'undefined'}\")"
   ]
  },
  {
   "cell_type": "code",
   "execution_count": null,
   "id": "2fc3a444",
   "metadata": {},
   "outputs": [],
   "source": [
    "# ZeroDivisionError\n",
    "\n",
    "try: \n",
    "    result = 10 / 0\n",
    "    print(f\"The result is: {result}\")\n",
    "except ZeroDivisionError as e:\n",
    "    print(f\"ZeroDivisionError: {e}\")"
   ]
  },
  {
   "cell_type": "code",
   "execution_count": null,
   "id": "e66d2585",
   "metadata": {},
   "outputs": [],
   "source": [
    "# Handle multiple exceptions\n",
    "\n",
    "try:\n",
    "    a = 10\n",
    "    b = 2\n",
    "    result = a / b\n",
    "\n",
    "    a = c\n",
    "\n",
    "except ZeroDivisionError as e:\n",
    "    print(f\"ZeroDivisionError: {e}\")\n",
    "except Exception as e:\n",
    "    print(f\"An unexpected error occurred: {e}\")"
   ]
  },
  {
   "cell_type": "code",
   "execution_count": null,
   "id": "be541c5b",
   "metadata": {},
   "outputs": [],
   "source": [
    "# Value error\n",
    "# Value error occurs when a function receives an argument of the right type but inappropriate value.\n",
    "# For example, converting a string that does not represent a number to an integer.\n",
    "try:\n",
    "    number = int(\"abc\")  # This will raise a ValueError\n",
    "except ValueError as e:\n",
    "    print(f\"ValueError: {e}\")"
   ]
  },
  {
   "cell_type": "code",
   "execution_count": null,
   "id": "baf6b870",
   "metadata": {},
   "outputs": [],
   "source": [
    "# FileNotFoundError\n",
    "# FileNotFoundError occurs when trying to open a file that does not exist.\n",
    "try:\n",
    "    with open(\"non_existent_file.txt\", \"r\") as file:\n",
    "        content = file.read()\n",
    "except FileNotFoundError as e:\n",
    "    print(f\"FileNotFoundError: {e}\")"
   ]
  },
  {
   "cell_type": "code",
   "execution_count": null,
   "id": "c39eba39",
   "metadata": {},
   "outputs": [],
   "source": [
    "# try, except, else, finally\n",
    "\n",
    "try:\n",
    "    result = 10 / 2\n",
    "\n",
    "except ValueError as e:\n",
    "    print(f\"ValueError: {e}\")\n",
    "except ZeroDivisionError as e:\n",
    "    print(f\"ZeroDivisionError: {e}\")\n",
    "else: # This block runs if no exceptions were raised\n",
    "    print(f\"The result is: {result}, no exceptions occurred.\")\n",
    "finally: # This block always runs, regardless of whether an exception occurred or not\n",
    "    print(\"This block always executes, regardless of whether an exception occurred or not.\")"
   ]
  },
  {
   "cell_type": "code",
   "execution_count": null,
   "id": "71c659a5",
   "metadata": {},
   "outputs": [],
   "source": [
    "# Custom Exception\n",
    "class CustomError(Exception):\n",
    "    \"\"\"Custom exception class.\"\"\"\n",
    "    def __init__(self, message):\n",
    "        super().__init__(message)\n",
    "        \n",
    "# Raising a custom exception\n",
    "try:\n",
    "    raise CustomError(\"This is a custom error message.\")\n",
    "except CustomError as e:\n",
    "    print(f\"CustomError: {e}\")"
   ]
  },
  {
   "cell_type": "code",
   "execution_count": null,
   "id": "af3aa870",
   "metadata": {},
   "outputs": [],
   "source": [
    "# Raising exceptions\n",
    "def divide(x, y):\n",
    "    if y == 0:\n",
    "        raise ZeroDivisionError(\"You cannot divide by zero!\")\n",
    "    return x / y\n",
    "\n",
    "try:\n",
    "    result = divide(10, 0)\n",
    "except ZeroDivisionError as e:\n",
    "    print(f\"ZeroDivisionError: {e}\")"
   ]
  },
  {
   "cell_type": "code",
   "execution_count": null,
   "id": "03c73d50",
   "metadata": {},
   "outputs": [],
   "source": [
    "# Assertions\n",
    "def check_positive(number):\n",
    "    assert number > 0, \"Number must be positive!\"\n",
    "    return number\n",
    "\n",
    "try:\n",
    "    check_positive(-5)\n",
    "except AssertionError as e:\n",
    "    print(f\"AssertionError: {e}\")"
   ]
  },
  {
   "cell_type": "code",
   "execution_count": null,
   "id": "b6b31d46",
   "metadata": {},
   "outputs": [],
   "source": [
    "# File handling and exception handling\n",
    "\n",
    "try:\n",
    "    file = open(\"example.txt\", \"r\")\n",
    "    content = file.read()\n",
    "    print(content)\n",
    "except FileNotFoundError as e:\n",
    "    print(f\"FileNotFoundError: {e}\")\n",
    "finally:\n",
    "    if 'file' in locals() and not file.closed():\n",
    "        file.close()\n",
    "        print(\"File closed successfully.\")"
   ]
  },
  {
   "cell_type": "code",
   "execution_count": null,
   "id": "d6d0965d",
   "metadata": {},
   "outputs": [
    {
     "name": "stdout",
     "output_type": "stream",
     "text": [
      "<class 'str'>\n"
     ]
    }
   ],
   "source": [
    "# Accessing local variables using locals()\n",
    "\n",
    "a = 10\n",
    "b = 20\n",
    "c = 30\n",
    "text = \"Hello, World!\"\n",
    "dic = locals()\n",
    "\n",
    "print(type(dic[\"text\"]))  # Accessing variable 'a' from locals()"
   ]
  }
 ],
 "metadata": {
  "kernelspec": {
   "display_name": "venv",
   "language": "python",
   "name": "python3"
  },
  "language_info": {
   "codemirror_mode": {
    "name": "ipython",
    "version": 3
   },
   "file_extension": ".py",
   "mimetype": "text/x-python",
   "name": "python",
   "nbconvert_exporter": "python",
   "pygments_lexer": "ipython3",
   "version": "3.13.2"
  }
 },
 "nbformat": 4,
 "nbformat_minor": 5
}
