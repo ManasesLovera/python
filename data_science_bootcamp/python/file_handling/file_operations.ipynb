{
 "cells": [
  {
   "cell_type": "markdown",
   "id": "2dac55fd",
   "metadata": {},
   "source": [
    "## File Operation - Read and Write File"
   ]
  },
  {
   "cell_type": "code",
   "execution_count": null,
   "id": "6f4053ef",
   "metadata": {},
   "outputs": [
    {
     "name": "stdout",
     "output_type": "stream",
     "text": [
      "File created: example.txt\n"
     ]
    }
   ],
   "source": [
    "# Create a file with a specific extension in a directory\n",
    "def create_file_with_extension(file_name, extension):\n",
    "\n",
    "    filename = f\"{file_name}.{extension}\"\n",
    "    with open(filename, 'w') as f:\n",
    "        f.write(f\"This is a file named {filename}\\n\")\n",
    "    print(f\"File created: {filename}\")\n",
    "\n",
    "create_file_with_extension(\"example\", \"txt\")"
   ]
  },
  {
   "cell_type": "code",
   "execution_count": 7,
   "id": "c989d67e",
   "metadata": {},
   "outputs": [
    {
     "name": "stdout",
     "output_type": "stream",
     "text": [
      "THIS IS THE CONTENT OF THE FILE\n",
      "What's UP!?\n"
     ]
    }
   ],
   "source": [
    "# Read a whole file\n",
    "with open('example.txt', 'r') as file:\n",
    "\n",
    "    content = file.read()\n",
    "    print(content)"
   ]
  },
  {
   "cell_type": "code",
   "execution_count": 6,
   "id": "2c6f70c0",
   "metadata": {},
   "outputs": [
    {
     "name": "stdout",
     "output_type": "stream",
     "text": [
      "index: 0, Line: THIS IS THE CONTENT OF THE FILE\n",
      "\n",
      "index: 1, Line: What's UP!?\n"
     ]
    }
   ],
   "source": [
    "# Read a file line by line\n",
    "with open('example.txt', 'r') as file:\n",
    "    for index, line in enumerate(file):\n",
    "        print(f\"index: {index}, Line: {line}\")"
   ]
  },
  {
   "cell_type": "code",
   "execution_count": 9,
   "id": "b72bc871",
   "metadata": {},
   "outputs": [
    {
     "name": "stdout",
     "output_type": "stream",
     "text": [
      "Appended to example.txt: \n",
      "This is an appended line.\n",
      "THIS IS THE CONTENT OF THE FILE\n",
      "What's UP!?This is an appended line.\n",
      "\n",
      "This is an appended line.\n",
      "\n"
     ]
    }
   ],
   "source": [
    "# Append to a file\n",
    "def append_to_file(file_name, text):\n",
    "    with open(file_name, 'a') as file:\n",
    "        file.write(text + '\\n')\n",
    "    print(f\"Appended to {file_name}: {text}\")\n",
    "\n",
    "append_to_file('example.txt', '\\nThis is an appended line.')\n",
    "\n",
    "# Read the file again to see the appended content\n",
    "with open('example.txt', 'r') as file:\n",
    "    content = file.read()\n",
    "    print(content)"
   ]
  },
  {
   "cell_type": "code",
   "execution_count": null,
   "id": "70e51ce3",
   "metadata": {},
   "outputs": [],
   "source": [
    "# Writing a list to a file\n",
    "def write_list_to_file(file_name, data_list):\n",
    "    with open(file_name, 'w') as file:\n",
    "        file.writelines(f\"{item}\\n\" for item in data_list)\n",
    "\n",
    "write_list_to_file('list_example.txt', ['apple', 'banana', 'cherry'])\n",
    "\n",
    "# Reading a list from a file\n",
    "def read_list_from_file(file_name):\n",
    "    with open(file_name, 'r') as file:\n",
    "        data_list = [line.strip() for line in file]\n",
    "    return data_list"
   ]
  },
  {
   "cell_type": "code",
   "execution_count": null,
   "id": "9d8b5294",
   "metadata": {},
   "outputs": [],
   "source": [
    "# Binary file operations\n",
    "\n",
    "def write_binary_file(file_name, data):\n",
    "    with open(file_name, 'wb') as file:\n",
    "        file.write(data)\n",
    "    print(f\"Binary file written: {file_name}\")\n",
    "\n",
    "def read_binary_file(file_name):\n",
    "    with open(file_name, 'rb') as file:\n",
    "        data = file.read()\n",
    "    print(f\"Binary file read: {file_name}\")\n",
    "    return data\n",
    "\n",
    "# Example usage of binary file operations\n",
    "binary_data = b'\\x00\\x01\\x02\\x03\\x04\\x05'\n",
    "write_binary_file('binary_example.bin', binary_data)\n",
    "read_data = read_binary_file('binary_example.bin')\n",
    "print(f\"Data read from binary file: {read_data}\")\n",
    "\n",
    "# Working with file paths\n",
    "import os\n",
    "def create_directory(directory_name):\n",
    "    if not os.path.exists(directory_name):\n",
    "        os.makedirs(directory_name)\n",
    "        print(f\"Directory created: {directory_name}\")\n",
    "    else:\n",
    "        print(f\"Directory already exists: {directory_name}\")\n",
    "\n",
    "create_directory('new_directory')\n",
    "# Move a file to a new directory\n",
    "def move_file_to_directory(file_name, directory_name):\n",
    "    if os.path.exists(file_name) and os.path.exists(directory_name):\n",
    "        new_path = os.path.join(directory_name, file_name)\n",
    "        os.rename(file_name, new_path)\n",
    "        print(f\"Moved {file_name} to {new_path}\")\n",
    "    else:\n",
    "        print(f\"File or directory does not exist: {file_name}, {directory_name}\")\n",
    "\n",
    "move_file_to_directory('example.txt', 'new_directory')"
   ]
  },
  {
   "cell_type": "code",
   "execution_count": null,
   "id": "37ace441",
   "metadata": {},
   "outputs": [],
   "source": [
    "# Writing and then reading a file\n",
    "\n",
    "def write_and_read_file(file_name, content):\n",
    "    with open(file_name, 'w') as file:\n",
    "        file.write(content)\n",
    "        file.write(\"\\nThis is additional content.\")\n",
    "    print(f\"File written: {file_name}\")\n",
    "\n",
    "    file.seek(0)  # Reset file pointer to the beginning\n",
    "\n",
    "    with open(file_name, 'r') as file:\n",
    "        read_content = file.read()\n",
    "    print(f\"Content read from {file_name}: {read_content}\")"
   ]
  },
  {
   "cell_type": "code",
   "execution_count": null,
   "id": "491929a9",
   "metadata": {},
   "outputs": [],
   "source": [
    "# Delete a file\n",
    "import os\n",
    "def delete_file(file_name):\n",
    "    try:\n",
    "        os.remove(file_name)\n",
    "        print(f\"File deleted: {file_name}\")\n",
    "    except FileNotFoundError:\n",
    "        print(f\"File not found: {file_name}\")"
   ]
  }
 ],
 "metadata": {
  "kernelspec": {
   "display_name": "venv",
   "language": "python",
   "name": "python3"
  },
  "language_info": {
   "codemirror_mode": {
    "name": "ipython",
    "version": 3
   },
   "file_extension": ".py",
   "mimetype": "text/x-python",
   "name": "python",
   "nbconvert_exporter": "python",
   "pygments_lexer": "ipython3",
   "version": "3.13.2"
  }
 },
 "nbformat": 4,
 "nbformat_minor": 5
}
