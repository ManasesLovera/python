{
 "cells": [
  {
   "cell_type": "markdown",
   "id": "a95eb33a",
   "metadata": {},
   "source": [
    "## Generators\n",
    "Generators are simpler way t create iterators. They use the yield keyword to produce a series of values lazily, which means they generate values on the fly and do not store them in memory."
   ]
  },
  {
   "cell_type": "code",
   "execution_count": 8,
   "id": "b79734ca",
   "metadata": {},
   "outputs": [],
   "source": [
    "def square(n):\n",
    "    for i in range(n):\n",
    "        yield i ** 2"
   ]
  },
  {
   "cell_type": "code",
   "execution_count": 10,
   "id": "c2fba603",
   "metadata": {},
   "outputs": [
    {
     "data": {
      "text/plain": [
       "<generator object square at 0x000002B052484C70>"
      ]
     },
     "execution_count": 10,
     "metadata": {},
     "output_type": "execute_result"
    }
   ],
   "source": [
    "square(3)"
   ]
  },
  {
   "cell_type": "code",
   "execution_count": 13,
   "id": "d8e58b30",
   "metadata": {},
   "outputs": [
    {
     "name": "stdout",
     "output_type": "stream",
     "text": [
      "0 1 4 "
     ]
    }
   ],
   "source": [
    "for i in square(3):\n",
    "    print(i, end=\" \")"
   ]
  },
  {
   "cell_type": "code",
   "execution_count": 14,
   "id": "e9396ce0",
   "metadata": {},
   "outputs": [
    {
     "data": {
      "text/plain": [
       "<generator object square at 0x000002B052485220>"
      ]
     },
     "execution_count": 14,
     "metadata": {},
     "output_type": "execute_result"
    }
   ],
   "source": [
    "a = square(3)\n",
    "a"
   ]
  },
  {
   "cell_type": "code",
   "execution_count": null,
   "id": "5817cb2c",
   "metadata": {},
   "outputs": [],
   "source": [
    "next(a)"
   ]
  },
  {
   "cell_type": "code",
   "execution_count": 20,
   "id": "e5e9dcd4",
   "metadata": {},
   "outputs": [],
   "source": [
    "def my_generator():\n",
    "    yield 1\n",
    "    yield 2\n",
    "    yield 3"
   ]
  },
  {
   "cell_type": "code",
   "execution_count": 21,
   "id": "9d13dd9f",
   "metadata": {},
   "outputs": [
    {
     "data": {
      "text/plain": [
       "<generator object my_generator at 0x000002B0532EE140>"
      ]
     },
     "execution_count": 21,
     "metadata": {},
     "output_type": "execute_result"
    }
   ],
   "source": [
    "gen = my_generator()\n",
    "gen"
   ]
  },
  {
   "cell_type": "code",
   "execution_count": 22,
   "id": "c1ddd6a6",
   "metadata": {},
   "outputs": [
    {
     "data": {
      "text/plain": [
       "1"
      ]
     },
     "execution_count": 22,
     "metadata": {},
     "output_type": "execute_result"
    }
   ],
   "source": [
    "next(gen)"
   ]
  },
  {
   "cell_type": "code",
   "execution_count": null,
   "id": "b5d722e3",
   "metadata": {},
   "outputs": [],
   "source": [
    "for val in gen:\n",
    "    print(val)"
   ]
  },
  {
   "cell_type": "markdown",
   "id": "d00330a3",
   "metadata": {},
   "source": [
    "### Practical Example: Reading Large Files\n",
    "Generators are particularly useful for reading larga files because they allow you to process one line at a time, without loading the entire file into memory."
   ]
  },
  {
   "cell_type": "code",
   "execution_count": 1,
   "id": "8261396a",
   "metadata": {},
   "outputs": [],
   "source": [
    "# Practical : Reading Large Files\n",
    "\n",
    "def read_large_file(file_path):\n",
    "    with open(file_path, 'r') as file:\n",
    "        for line in file:\n",
    "            yield line"
   ]
  },
  {
   "cell_type": "code",
   "execution_count": 2,
   "id": "af7de468",
   "metadata": {},
   "outputs": [
    {
     "name": "stdout",
     "output_type": "stream",
     "text": [
      "The Impact of Artificial Intelligence on Modern Society\n",
      "\n",
      "Artificial Intelligence (AI) is rapidly transforming the structure of modern society across various dimensions—technological,\n",
      "economic, ethical, and social. As an evolving discipline, AI is no longer a futuristic concept limited to science fiction. Instead,\n",
      "it has permeated every major sector, from healthcare and finance to transportation and education. Its impact is both profound and\n",
      "multifaceted, prompting critical conversations about how we adapt, regulate, and coexist with increasingly intelligent systems.\n",
      "\n",
      "One of the most visible effects of AI is automation. Intelligent systems have replaced or enhanced human labor in repetitive and\n",
      "analytical tasks, leading to greater efficiency and accuracy. In manufacturing, for example, robotic arms powered by AI algorithms\n",
      "can produce goods with precision and minimal error. In customer service, AI-powered chatbots handle thousands of queries\n",
      "simultaneously, offering 24/7 support and reducing human workload. However, this shift also introduces labor displacement concerns.\n",
      "While some jobs are lost to automation, others are transformed, requiring new skills and adaptability. The labor market is undergoing\n",
      "a significant transition, where digital literacy and lifelong learning are becoming essential assets.\n",
      "\n",
      "AI’s contribution to healthcare is particularly noteworthy. Machine learning models are used to diagnose diseases, predict patient\n",
      "outcomes, and personalize treatment plans. For example, AI systems can analyze medical imaging data faster and sometimes more\n",
      "accurately than human radiologists. Furthermore, predictive analytics help in identifying at-risk patients before they show symptoms,\n",
      "enabling preventive care and reducing long-term healthcare costs. However, these advances also raise questions about privacy, data\n",
      "ownership, and the ethical implications of machines making life-altering decisions.\n",
      "\n",
      "In the realm of finance, AI algorithms are reshaping everything from high-frequency trading to fraud detection. Fintech companies\n",
      "leverage AI to assess creditworthiness, automate investment strategies, and personalize financial services. These innovations not\n",
      "only optimize performance but also democratize access to financial tools. On the downside, the complexity of AI systems can make them\n",
      "opaque, increasing the risk of unforeseen failures or biased decisions embedded in algorithmic models.\n",
      "\n",
      "Transportation is another domain undergoing a major AI-driven transformation. Autonomous vehicles, guided by deep learning and\n",
      "real-time data processing, promise to revolutionize mobility by reducing traffic accidents and increasing fuel efficiency.\n",
      "Ride-sharing platforms utilize AI to optimize routes, predict demand, and enhance user experiences. While the full integration of\n",
      "autonomous vehicles into society is still evolving, their potential to reshape urban infrastructure is undeniable.\n",
      "\n",
      "Despite its benefits, AI brings significant ethical and regulatory challenges. The deployment of facial recognition systems,\n",
      "predictive policing tools, and surveillance technologies can threaten civil liberties if left unchecked. Moreover, AI systems often\n",
      "inherit the biases present in their training data, which can perpetuate inequality or discrimination. This calls for greater\n",
      "transparency, accountability, and the development of robust frameworks to govern AI deployment. Policymakers, technologists, and\n",
      "ethicists must collaborate to ensure that AI serves the common good and aligns with human values.\n",
      "\n",
      "Lastly, the philosophical implications of AI merit consideration. As machines approach human-like cognitive functions, questions\n",
      "about consciousness, autonomy, and identity emerge. Will AI ever become sentient? Should intelligent systems possess rights? While\n",
      "these debates may seem speculative today, the rapid pace of technological advancement suggests that such issues may become pressing\n",
      "in the near future.\n",
      "\n",
      "In conclusion, artificial intelligence is a powerful force shaping the trajectory of contemporary civilization. Its potential to\n",
      "improve lives is immense, but it must be harnessed responsibly. The future of AI will depend not only on technological innovation but\n",
      "also on our collective ability to guide its development with wisdom, ethics, and foresight.\n"
     ]
    }
   ],
   "source": [
    "file_path = 'large_file.txt'\n",
    "\n",
    "for line in read_large_file(file_path):\n",
    "    print(line.strip())"
   ]
  }
 ],
 "metadata": {
  "kernelspec": {
   "display_name": "venv",
   "language": "python",
   "name": "python3"
  },
  "language_info": {
   "codemirror_mode": {
    "name": "ipython",
    "version": 3
   },
   "file_extension": ".py",
   "mimetype": "text/x-python",
   "name": "python",
   "nbconvert_exporter": "python",
   "pygments_lexer": "ipython3",
   "version": "3.13.2"
  }
 },
 "nbformat": 4,
 "nbformat_minor": 5
}
