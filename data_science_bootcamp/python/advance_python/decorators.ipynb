{
 "cells": [
  {
   "cell_type": "markdown",
   "id": "6457a814",
   "metadata": {},
   "source": [
    "## Decorators\n",
    "Decorators are a powerful and flexible feature in Python that allows you to modify the behavior of a function or class method. They are commonly used to add functionality to functions or methods without modifying their actual code. This lesson covers the basics of decorators, including how to create and use them."
   ]
  },
  {
   "cell_type": "code",
   "execution_count": 10,
   "id": "217491a6",
   "metadata": {},
   "outputs": [
    {
     "data": {
      "text/plain": [
       "'Welcome to the advanced python course'"
      ]
     },
     "execution_count": 10,
     "metadata": {},
     "output_type": "execute_result"
    }
   ],
   "source": [
    "def welcome():\n",
    "    return \"Welcome to the advanced python course\"\n",
    "\n",
    "welcome()"
   ]
  },
  {
   "cell_type": "code",
   "execution_count": 11,
   "id": "8a7a992b",
   "metadata": {},
   "outputs": [
    {
     "name": "stdout",
     "output_type": "stream",
     "text": [
      "Welcome to the advanced python course\n",
      "Welcome to the advanced python course\n"
     ]
    }
   ],
   "source": [
    "wel = welcome\n",
    "print(wel())\n",
    "del welcome\n",
    "print(wel())"
   ]
  },
  {
   "cell_type": "code",
   "execution_count": 23,
   "id": "2ae32d97",
   "metadata": {},
   "outputs": [],
   "source": [
    "# Closures functions\n",
    "def main_welcome(func):\n",
    "    def sub_welcome_method():\n",
    "        print(\"Welcome to the advance python course\")\n",
    "        func()\n",
    "        print(\"Please learn these concepts property\")\n",
    "\n",
    "    return sub_welcome_method"
   ]
  },
  {
   "cell_type": "code",
   "execution_count": 20,
   "id": "5b851903",
   "metadata": {},
   "outputs": [],
   "source": [
    "my_func = main_welcome()"
   ]
  },
  {
   "cell_type": "code",
   "execution_count": 22,
   "id": "982d431a",
   "metadata": {},
   "outputs": [
    {
     "name": "stdout",
     "output_type": "stream",
     "text": [
      "This is an advanced python course\n"
     ]
    }
   ],
   "source": [
    "def course_introduction():\n",
    "    print(\"This is an advanced python course\")\n",
    "\n",
    "course_introduction()"
   ]
  },
  {
   "cell_type": "code",
   "execution_count": null,
   "id": "e2613f10",
   "metadata": {},
   "outputs": [],
   "source": [
    "main_welcome(course_introduction)"
   ]
  },
  {
   "cell_type": "code",
   "execution_count": 25,
   "id": "7f54a322",
   "metadata": {},
   "outputs": [
    {
     "name": "stdout",
     "output_type": "stream",
     "text": [
      "Welcome to the advance python course\n",
      "This is an advanced python course\n",
      "Please learn these concepts property\n"
     ]
    }
   ],
   "source": [
    "@main_welcome\n",
    "def course_introduction():\n",
    "    print(\"This is an advanced python course\")\n",
    "\n",
    "course_introduction()"
   ]
  },
  {
   "cell_type": "code",
   "execution_count": 26,
   "id": "bd253714",
   "metadata": {},
   "outputs": [],
   "source": [
    "# Decorator\n",
    "def my_decorator(func):\n",
    "    def wrapper():\n",
    "        print(\"Something is happening before the function is called.\")\n",
    "        func()\n",
    "        print(\"Something is happening after the function is called.\")\n",
    "\n",
    "    return wrapper"
   ]
  },
  {
   "cell_type": "code",
   "execution_count": 28,
   "id": "8d779bcb",
   "metadata": {},
   "outputs": [
    {
     "name": "stdout",
     "output_type": "stream",
     "text": [
      "Something is happening before the function is called.\n",
      "Hello!\n",
      "Something is happening after the function is called.\n"
     ]
    }
   ],
   "source": [
    "@my_decorator\n",
    "def say_hello():\n",
    "    print(\"Hello!\")\n",
    "\n",
    "say_hello()"
   ]
  },
  {
   "cell_type": "code",
   "execution_count": 29,
   "id": "da9ca6f2",
   "metadata": {},
   "outputs": [],
   "source": [
    "# Decorators with arguments\n",
    "def repeat(n):\n",
    "    def decorator(func):\n",
    "        def wrapper(*args, **kwargs):\n",
    "            for _ in range(n):\n",
    "                func(*args, **kwargs)\n",
    "        return wrapper\n",
    "    return decorator"
   ]
  },
  {
   "cell_type": "code",
   "execution_count": 30,
   "id": "c69491c6",
   "metadata": {},
   "outputs": [
    {
     "name": "stdout",
     "output_type": "stream",
     "text": [
      "Hello\n",
      "Hello\n",
      "Hello\n"
     ]
    }
   ],
   "source": [
    "@repeat(3)\n",
    "def say_hello():\n",
    "    print(\"Hello\")\n",
    "\n",
    "say_hello()"
   ]
  },
  {
   "cell_type": "code",
   "execution_count": 21,
   "id": "c5da9426",
   "metadata": {},
   "outputs": [
    {
     "name": "stdout",
     "output_type": "stream",
     "text": [
      "Hello\n",
      "Hello\n",
      "9\n",
      "16\n",
      "27\n"
     ]
    }
   ],
   "source": [
    "# Closure functions explanation with example:\n",
    "# A closure is a function object that remembers values in enclosing scopes even if they are not present in memory.\n",
    "# In other words, a closure is a function that has access to variables from its enclosing scope, even after the outer function has finished executing.\n",
    "\n",
    "def outer_function(msg):  # outer function with a parameter msg\n",
    "    message = msg  # message is a local variable of outer_function\n",
    "\n",
    "    def inner_function():  # inner function, this is the closure\n",
    "        print(message)  # inner function uses the message variable from the outer function's scope\n",
    "\n",
    "    return inner_function  # outer function returns the inner function\n",
    "\n",
    "# Example usage:\n",
    "my_func = outer_function(\"Hello\")  # Call outer_function with \"Hello\" and store the returned inner_function in my_func\n",
    "my_func()  # Call my_func, which is the inner_function. It prints \"Hello\" even though outer_function has already finished executing.\n",
    "my_func()  # Call my_func again. It still remembers \"Hello\".\n",
    "\n",
    "# Another example:\n",
    "def power(exponent):\n",
    "    def inner_power(base):\n",
    "        return base ** exponent\n",
    "    return inner_power\n",
    "\n",
    "raise_to_power = power(2)  # creates a closure that remembers exponent=2\n",
    "print(raise_to_power(3))  # 3**2 = 9\n",
    "print(raise_to_power(4))  # 4**2 = 16\n",
    "\n",
    "raise_to_power_3 = power(3) # creates a closure that remembers exponent=3\n",
    "print(raise_to_power_3(3)) # 3**3 = 27"
   ]
  }
 ],
 "metadata": {
  "kernelspec": {
   "display_name": "venv",
   "language": "python",
   "name": "python3"
  },
  "language_info": {
   "codemirror_mode": {
    "name": "ipython",
    "version": 3
   },
   "file_extension": ".py",
   "mimetype": "text/x-python",
   "name": "python",
   "nbconvert_exporter": "python",
   "pygments_lexer": "ipython3",
   "version": "3.13.2"
  }
 },
 "nbformat": 4,
 "nbformat_minor": 5
}
