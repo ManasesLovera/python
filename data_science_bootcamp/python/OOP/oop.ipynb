{
 "cells": [
  {
   "cell_type": "markdown",
   "id": "fa390d3a",
   "metadata": {},
   "source": [
    "## Classes and Objects\n",
    "Object-Oriented Programming (OOP) is a programming paradigm that uses \"objects\" to design applications and computer programs. OOP allows for modeling real-world scenarios using classes and objects. This lesson convers the basics of creating classes and objects, including instance variables and methods."
   ]
  },
  {
   "cell_type": "code",
   "execution_count": null,
   "id": "b8969c1f",
   "metadata": {},
   "outputs": [],
   "source": [
    "# A class is a blue print for creating objects. A class encapsulates data for the object.\n",
    "# A class can contain attributes (variables) and methods (functions).\n",
    "\n",
    "class Car:\n",
    "    # Constructor method to initialize attributes\n",
    "    def __init__(self, make, model, year):\n",
    "        self.make = make\n",
    "        self.model = model\n",
    "        self.year = year\n",
    "\n",
    "    # Method\n",
    "    def display_info(self):\n",
    "        print(f\"{self.year} {self.make} {self.model}\")\n",
    "\n",
    "    def drive(self):\n",
    "        print(f\"The person will drive the {self.make} {self.model}.\")\n",
    "\n",
    "# An object is an instance of a class.\n",
    "my_car = Car(\"Toyota\", \"Corolla\", 2020)\n",
    "# Accessing attributes\n",
    "print(my_car.make)  # Output: Toyota\n",
    "# Calling a method\n",
    "my_car.display_info()  # Output: 2020 Toyota Corolla\n"
   ]
  },
  {
   "cell_type": "markdown",
   "id": "d78ea87f",
   "metadata": {},
   "source": [
    "### Inheritance in Python\n",
    "Inheritance is a fundamental concept in Object-Oriented Programming (OOP) that allows a class to inherit attributes and methods from another class. This lesson covers single inheritance and multiple inheritance, demonstrating how to create and use them in Python."
   ]
  },
  {
   "cell_type": "code",
   "execution_count": null,
   "id": "e8373276",
   "metadata": {},
   "outputs": [],
   "source": [
    "# Inheritance allows a class to inherit attributes and methods from another class.\n",
    "class ElectricCar(Car):\n",
    "    def __init__(self, make, model, year, battery_size=75):\n",
    "        super().__init__(make, model, year)  # Call the constructor of the parent class\n",
    "        self.battery_size = battery_size\n",
    "\n",
    "    def display_info(self):\n",
    "        super().display_info()  # Call the parent class method\n",
    "        print(f\"Battery size: {self.battery_size} kWh\")\n",
    "\n",
    "# Creating an object of the derived class\n",
    "my_electric_car = ElectricCar(\"Tesla\", \"Model 3\", 2021, 82)\n",
    "\n",
    "# Accessing attributes\n",
    "print(my_electric_car.make)  # Output: Tesla\n",
    "# Calling the overridden method\n",
    "my_electric_car.display_info()  # Output: 2021 Tesla Model 3 \\n Battery size: 82 kWh"
   ]
  },
  {
   "cell_type": "code",
   "execution_count": null,
   "id": "0b862390",
   "metadata": {},
   "outputs": [],
   "source": [
    "# Multiple inheritance\n",
    "# When a class inherits from more than one base class.\n",
    "class HybridCar(Car):\n",
    "    def __init__(self, make, model, year, fuel_type):\n",
    "        super().__init__(make, model, year)\n",
    "        self.fuel_type = fuel_type\n",
    "\n",
    "    def display_info(self):\n",
    "        super().display_info()\n",
    "        print(f\"Fuel type: {self.fuel_type}\")\n",
    "\n",
    "# Creating an object of the HybridCar class\n",
    "my_hybrid_car = HybridCar(\"Toyota\", \"Prius\", 2019, \"Hybrid\")\n",
    "\n"
   ]
  },
  {
   "cell_type": "code",
   "execution_count": null,
   "id": "28690d2a",
   "metadata": {},
   "outputs": [],
   "source": [
    "# Base class 1\n",
    "class Animal:\n",
    "    def __init__(self, name):\n",
    "        self.name = name\n",
    "\n",
    "    def speak(self):\n",
    "        print(\"Subclass must implement this method\")\n",
    "\n",
    "# Base class 2\n",
    "class Pet:\n",
    "    def __init__(self, owner):\n",
    "        self.owner = owner\n",
    "\n",
    "# Derived class\n",
    "class Dog(Animal, Pet):\n",
    "    def __init__(self, name, owner):\n",
    "        Animal.__init__(self, name)\n",
    "        Pet.__init__(self, owner)"
   ]
  },
  {
   "cell_type": "markdown",
   "id": "236a7dda",
   "metadata": {},
   "source": [
    "## Polymosphism\n",
    "Polymorphism is a core concept in Object-Oriented Programming (OOP) that allows object of different classes to be treated as objects of a common superclass. It provides a way to perform a single action in different forms. Polymorphism is typically achived through method overriding and interfaces."
   ]
  },
  {
   "cell_type": "code",
   "execution_count": null,
   "id": "377094e1",
   "metadata": {},
   "outputs": [],
   "source": [
    "# Base class\n",
    "class Animal:\n",
    "    def speak(self):\n",
    "        return \"Sound like an animal\"\n",
    "    \n",
    "# Derived class 1\n",
    "class Dog(Animal):\n",
    "    def speak(self):\n",
    "        return \"Woof! Woof!\"\n",
    "    \n",
    "# Derived class 2\n",
    "class Cat(Animal):\n",
    "    def speak(self):\n",
    "        return \"Meow! Meow!\"\n",
    "    \n",
    "dog = Dog()\n",
    "cat = Cat()\n",
    "# Calling the speak method on the derived classes\n",
    "print(dog.speak())  # Output: Woof! Woof!\n",
    "print(cat.speak())  # Output: Meow! Meow!"
   ]
  },
  {
   "cell_type": "code",
   "execution_count": null,
   "id": "cea55998",
   "metadata": {},
   "outputs": [],
   "source": [
    "# Polymorphism allows methods to do different things based on the object calling them.\n",
    "def car_info(car):\n",
    "    car.display_info()\n",
    "# Using polymorphism\n",
    "car_info(my_car)  # Output: 2020 Toyota Corolla"
   ]
  },
  {
   "cell_type": "code",
   "execution_count": null,
   "id": "71153991",
   "metadata": {},
   "outputs": [],
   "source": [
    "# Interfaces\n",
    "# Python does not have interfaces like some other languages, but we can use abstract base classes to achieve similar functionality.\n",
    "from abc import ABC, abstractmethod, property\n",
    "# Abstract Base Class (ABC) to define an interface\n",
    "\n",
    "class Vehicle(ABC):\n",
    "    @property\n",
    "    def make(self):\n",
    "        return self._make\n",
    "    @make.setter\n",
    "    def make(self, value):\n",
    "        self._make = value\n",
    "    @property\n",
    "    def model(self):\n",
    "        return self._model\n",
    "    @model.setter\n",
    "    def model(self, value):\n",
    "        self._model = value\n",
    "    @abstractmethod\n",
    "    def display_info(self):\n",
    "        pass\n",
    "\n",
    "class Bike(Vehicle):\n",
    "    def __init__(self, make, model):\n",
    "        self.make = make\n",
    "        self.model = model\n",
    "\n",
    "    def display_info(self):\n",
    "        print(f\"Bike: {self.make} {self.model}\")"
   ]
  },
  {
   "cell_type": "code",
   "execution_count": null,
   "id": "5bbaecf8",
   "metadata": {},
   "outputs": [
    {
     "name": "stdout",
     "output_type": "stream",
     "text": [
      "Account holder: Alice, Balance: 1000.0\n",
      "Deposited 500.0. New balance is 1500.0.\n",
      "Withdrew 200.0. New balance: 1300.0\n",
      "Insufficient funds\n",
      "Account holder: Alice, Balance: 1300.0\n"
     ]
    }
   ],
   "source": [
    "class BankAccount:\n",
    "\n",
    "    def __init__(self, account_holder, balance: float):\n",
    "        self.account_holder = account_holder\n",
    "        self.balance = balance\n",
    "\n",
    "    def display_balance(self) -> None:\n",
    "        print(f\"Account holder: {self.account_holder}, Balance: {self.balance}\")\n",
    "\n",
    "    def deposit(self, amount: float) -> None:\n",
    "        self.balance += amount\n",
    "        print(f\"Deposited {amount}. New balance is {self.balance}.\")\n",
    "\n",
    "    def withdraw(self, amount: float) -> None:\n",
    "        if amount <= self.balance:\n",
    "            self.balance -= amount\n",
    "            print(f\"Withdrew {amount}. New balance: {self.balance}\")\n",
    "        else:\n",
    "            print(\"Insufficient funds\")\n",
    "\n",
    "# Creating a bank account object\n",
    "my_account = BankAccount(\"Alice\", 1000.0)\n",
    "# Displaying account information\n",
    "my_account.display_balance()  # Output: Account holder: Alice, Balance: 1000.0\n",
    "# Depositing money\n",
    "my_account.deposit(500.0)  # Output: Deposited 500.0. New balance is 1000.0.\n",
    "# Withdrawing money\n",
    "my_account.withdraw(200.0)  # Output: Withdrew 200.0. New balance: 800.0\n",
    "# Withdrawing more than the balance\n",
    "my_account.withdraw(1500.0)  # Output: Insufficient funds\n",
    "\n",
    "# Displaying account information after transactions\n",
    "my_account.display_balance()  # Output: Account holder: Alice, Balance: 800.0"
   ]
  },
  {
   "cell_type": "markdown",
   "id": "00004f4c",
   "metadata": {},
   "source": [
    "## Polymorphism with Abstract Base Classes\n",
    "Abstract base classes (ABCs) are used to define common methods for a group or related objects. They can enforce that derived classes implement particular methods, promoting consistency across different implementations. "
   ]
  },
  {
   "cell_type": "code",
   "execution_count": 6,
   "id": "05d7f392",
   "metadata": {},
   "outputs": [
    {
     "name": "stdout",
     "output_type": "stream",
     "text": [
      "Car: Toyota Corolla\n",
      "The engine of Toyota Corolla is started.\n"
     ]
    }
   ],
   "source": [
    "from abc import ABC, abstractmethod\n",
    "\n",
    "# Define abstract base class\n",
    "class Vehicle(ABC):\n",
    "    @abstractmethod\n",
    "    def start_engine(self):\n",
    "        pass\n",
    "\n",
    "# Derived class 1\n",
    "class Car(Vehicle):\n",
    "    def __init__(self, make, model):\n",
    "        self.make = make\n",
    "        self.model = model\n",
    "\n",
    "    def display_info(self):\n",
    "        print(f\"Car: {self.make} {self.model}\")\n",
    "\n",
    "    # Abstract method implementation\n",
    "    def start_engine(self):\n",
    "        print(f\"The engine of {self.make} {self.model} is started.\")\n",
    "\n",
    "car = Car(\"Toyota\", \"Corolla\")\n",
    "car.display_info()  # Output: Car: Toyota Corolla\n",
    "car.start_engine()  # Output: The engine of Toyota Corolla is started."
   ]
  },
  {
   "cell_type": "markdown",
   "id": "0617a9b7",
   "metadata": {},
   "source": [
    "## Encapsulation and abstraction\n",
    "Encapsulation and abstraction are two fundamental principles of Object-Oriented Programming (OOP) that help in designing robust, maintainable, and reusable code. Encapsulation involves bundling data and methods that operate on the data within a single unit, while abstraction involves hiding complex implementation details and exposing only the necessary features.\n",
    "## Encapsulation\n",
    "Encapsulation is the concept of wrappping data (variables) and methods (functions) together as a single unit. It  restricts direct access to some of the object's components, which is a means of preventing accidental interference and misuse of the data."
   ]
  },
  {
   "cell_type": "code",
   "execution_count": null,
   "id": "2d9309ba",
   "metadata": {},
   "outputs": [],
   "source": [
    "# Encapsulation with Getter and Setter methods\n",
    "# Public, protected, and private attributes\n",
    "\n",
    "class Person:\n",
    "    def __init__(self, name, age):\n",
    "        self.name = name  # Public attribute\n",
    "        self._age = age   # Protected attribute\n",
    "\n",
    "    @property\n",
    "    def age(self):\n",
    "        return self._age\n",
    "\n",
    "    @age.setter\n",
    "    def age(self, value):\n",
    "        if value < 0:\n",
    "            raise ValueError(\"Age cannot be negative\")\n",
    "        self._age = value"
   ]
  },
  {
   "cell_type": "code",
   "execution_count": 16,
   "id": "ce206bb4",
   "metadata": {},
   "outputs": [
    {
     "name": "stdout",
     "output_type": "stream",
     "text": [
      "34\n"
     ]
    }
   ],
   "source": [
    "class Person:\n",
    "    def __init__(self, name, age):\n",
    "        self.name = name # public variable\n",
    "        self.__age = age # private variable\n",
    "\n",
    "    def get_age(self):\n",
    "        return self.__age\n",
    "\n",
    "def get_name(person: Person):\n",
    "    return person._Person__age\n",
    "\n",
    "person = Person(\"Krish\", 34)\n",
    "print(get_name(person))"
   ]
  },
  {
   "cell_type": "code",
   "execution_count": null,
   "id": "637e55d3",
   "metadata": {},
   "outputs": [],
   "source": [
    "dir(person)\n"
   ]
  },
  {
   "cell_type": "code",
   "execution_count": null,
   "id": "dea47ff7",
   "metadata": {},
   "outputs": [],
   "source": [
    "class A:\n",
    "    def __init__(self, a, b, c):\n",
    "        self.a = a; \n",
    "        self._b = b; \n",
    "        self.__c = c; \n",
    "\n",
    "    def get_a(self):\n",
    "        return self.a\n",
    "    \n",
    "    def get_b(self):\n",
    "        return self._b\n",
    "    \n",
    "    def get_c(self):\n",
    "        return self.__c\n"
   ]
  },
  {
   "cell_type": "code",
   "execution_count": null,
   "id": "f2187793",
   "metadata": {},
   "outputs": [],
   "source": [
    "class B(A):\n",
    "    def __init__(self, a, b, c, d):\n",
    "        super().__init__(a, b, c)\n",
    "        self.d = d\n",
    "\n",
    "b: B = B(1,2,3,4)\n",
    "\n",
    "print(b.get_a())\n",
    "print(b.get_b())\n",
    "print(b.get_c())\n",
    "\n",
    "print(\"\\n\\n\")\n",
    "\n",
    "print(b.a)\n",
    "print(b._b)\n",
    "print(b._A__c)\n"
   ]
  }
 ],
 "metadata": {
  "kernelspec": {
   "display_name": "venv",
   "language": "python",
   "name": "python3"
  },
  "language_info": {
   "codemirror_mode": {
    "name": "ipython",
    "version": 3
   },
   "file_extension": ".py",
   "mimetype": "text/x-python",
   "name": "python",
   "nbconvert_exporter": "python",
   "pygments_lexer": "ipython3",
   "version": "3.13.2"
  }
 },
 "nbformat": 4,
 "nbformat_minor": 5
}
