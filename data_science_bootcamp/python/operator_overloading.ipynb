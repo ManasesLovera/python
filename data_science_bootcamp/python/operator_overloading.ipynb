{
 "cells": [
  {
   "cell_type": "markdown",
   "id": "716754fd",
   "metadata": {},
   "source": [
    "### Operation Overloading\n",
    "\n",
    "Operation overloading allows operators like `+`, `-`, `*`, `/` to have different meanings depending on the context (i.e., the data types of their operands). It enables operators to work with user-defined types (objects) in a natural and intuitive way."
   ]
  },
  {
   "cell_type": "code",
   "execution_count": 1,
   "id": "2449a640",
   "metadata": {},
   "outputs": [
    {
     "name": "stdout",
     "output_type": "stream",
     "text": [
      "Vector 1: Vector(2, 3)\n",
      "Vector 2: Vector(1, 1)\n",
      "Vector 1 + Vector 2: Vector(3, 4)\n",
      "Vector 1 - Vector 2: Vector(1, 2)\n",
      "Vector 1 * 5: Vector(10, 15)\n"
     ]
    }
   ],
   "source": [
    "class Vector:\n",
    "    def __init__(self, x, y):\n",
    "        self.x = x\n",
    "        self.y = y\n",
    "\n",
    "    def __str__(self):\n",
    "        return f\"Vector({self.x}, {self.y})\"\n",
    "\n",
    "    def __add__(self, other):\n",
    "        if isinstance(other, Vector):\n",
    "            return Vector(self.x + other.x, self.y + other.y)\n",
    "        else:\n",
    "            raise TypeError(\"Can only add two Vector objects\")\n",
    "\n",
    "    def __sub__(self, other):\n",
    "        if isinstance(other, Vector):\n",
    "            return Vector(self.x - other.x, self.y - other.y)\n",
    "        else:\n",
    "            raise TypeError(\"Can only subtract two Vector objects\")\n",
    "\n",
    "    def __mul__(self, scalar):\n",
    "        if isinstance(scalar, (int, float)):\n",
    "            return Vector(self.x * scalar, self.y * scalar)\n",
    "        else:\n",
    "            raise TypeError(\"Can only multiply a Vector by a scalar\")\n",
    "\n",
    "# Example Usage\n",
    "v1 = Vector(2, 3)\n",
    "v2 = Vector(1, 1)\n",
    "\n",
    "print(f\"Vector 1: {v1}\")\n",
    "print(f\"Vector 2: {v2}\")\n",
    "\n",
    "v3 = v1 + v2\n",
    "print(f\"Vector 1 + Vector 2: {v3}\")\n",
    "\n",
    "v4 = v1 - v2\n",
    "print(f\"Vector 1 - Vector 2: {v4}\")\n",
    "\n",
    "v5 = v1 * 5\n",
    "print(f\"Vector 1 * 5: {v5}\")"
   ]
  }
 ],
 "metadata": {
  "kernelspec": {
   "display_name": "venv",
   "language": "python",
   "name": "python3"
  },
  "language_info": {
   "codemirror_mode": {
    "name": "ipython",
    "version": 3
   },
   "file_extension": ".py",
   "mimetype": "text/x-python",
   "name": "python",
   "nbconvert_exporter": "python",
   "pygments_lexer": "ipython3",
   "version": "3.13.2"
  }
 },
 "nbformat": 4,
 "nbformat_minor": 5
}
