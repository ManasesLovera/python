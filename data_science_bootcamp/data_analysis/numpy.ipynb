{
 "cells": [
  {
   "cell_type": "markdown",
   "id": "28423a47",
   "metadata": {},
   "source": [
    "## Numpy\n",
    "NumPy is a fundamental library for scientific computing in Python. It provides support for arrays and matrices, along with a collection of mathematical functions to operate on these data structures. In this lesson, we will cover the basics of NumPy, focusing on arrays and vectorized operations.\n",
    "\n",
    "#### Second definition\n",
    "NumPy (Numerical Python) is the core library for numerical computing in Python. It provides high-performance, multidimensional arrays and tools to work with them efficiently."
   ]
  },
  {
   "cell_type": "markdown",
   "id": "f7abd554",
   "metadata": {
    "vscode": {
     "languageId": "html"
    }
   },
   "source": [
    "> Installation <br>\n",
    "`!pip install numpy`"
   ]
  },
  {
   "cell_type": "code",
   "execution_count": 2,
   "id": "87732479",
   "metadata": {},
   "outputs": [],
   "source": [
    "# Importing NumPy\n",
    "import numpy as np"
   ]
  },
  {
   "cell_type": "code",
   "execution_count": 7,
   "id": "a638ad31",
   "metadata": {},
   "outputs": [],
   "source": [
    "# Creating arrays from python list\n",
    "a = np.array([1, 2, 3])             # 1D array\n",
    "b = np.array([[1, 2], [3, 4]])      # 2D array"
   ]
  },
  {
   "cell_type": "code",
   "execution_count": 8,
   "id": "568fcc1c",
   "metadata": {},
   "outputs": [
    {
     "data": {
      "text/plain": [
       "array([0.  , 0.25, 0.5 , 0.75, 1.  ])"
      ]
     },
     "execution_count": 8,
     "metadata": {},
     "output_type": "execute_result"
    }
   ],
   "source": [
    "# Built-in methods\n",
    "np.zeros((2, 3))     # 2x3 array of zeros\n",
    "np.ones((3, 3))      # 3x3 array of ones\n",
    "np.full((2, 2), 7)   # 2x2 array filled with 7\n",
    "np.eye(3)            # 3x3 identity matrix\n",
    "np.random.rand(2, 3) # 2x3 array with random values [0,1)\n",
    "np.arange(0, 10, 2)  # [0 2 4 6 8]\n",
    "np.linspace(0, 1, 5) # 5 evenly spaced values between 0 and 1"
   ]
  },
  {
   "cell_type": "code",
   "execution_count": 15,
   "id": "90d5fcab",
   "metadata": {},
   "outputs": [
    {
     "data": {
      "text/plain": [
       "8"
      ]
     },
     "execution_count": 15,
     "metadata": {},
     "output_type": "execute_result"
    }
   ],
   "source": [
    "# Array properties\n",
    "arr = np.array([[1, 2, 3], [4, 5, 6]])\n",
    "arr.shape       # (2, 3)\n",
    "arr.ndim        # 2 (dimensions)\n",
    "arr.dtype       # data type (e.g., int64)\n",
    "arr.size        # total elements\n",
    "arr.itemsize    # bytes per element"
   ]
  },
  {
   "cell_type": "code",
   "execution_count": null,
   "id": "6c473a46",
   "metadata": {},
   "outputs": [],
   "source": [
    "# Indexing and Slicing\n",
    "arr[0, 1]        # value at row 0, column 1\n",
    "arr[0]           # first row\n",
    "arr[:, 1]        # second column\n",
    "arr[1:, :2]      # subarray: rows from 1, columns up to 2"
   ]
  },
  {
   "cell_type": "code",
   "execution_count": null,
   "id": "fd7e0300",
   "metadata": {},
   "outputs": [],
   "source": [
    "# Math Operations\n",
    "a = np.array([1, 2, 3])\n",
    "b = np.array([4, 5, 6])\n",
    "\n",
    "a + b\n",
    "a * b\n",
    "a ** 2\n",
    "np.exp(a)\n",
    "np.sqrt(a)"
   ]
  },
  {
   "cell_type": "code",
   "execution_count": null,
   "id": "fe011945",
   "metadata": {},
   "outputs": [],
   "source": [
    "# Aggregations\n",
    "arr.sum()\n",
    "arr.mean()\n",
    "arr.std()\n",
    "arr.min()\n",
    "arr.max()\n",
    "arr.argmax()     # index of max value\n",
    "arr.cumsum()     # cumulative sum"
   ]
  },
  {
   "cell_type": "code",
   "execution_count": null,
   "id": "8bdced29",
   "metadata": {},
   "outputs": [],
   "source": [
    "# Broadcasting\n",
    "a = np.array([1, 2, 3])\n",
    "b = np.array([[1], [2]])\n",
    "a + b  # result: 2x3 array"
   ]
  },
  {
   "cell_type": "code",
   "execution_count": null,
   "id": "f343f5df",
   "metadata": {},
   "outputs": [],
   "source": [
    "# Array Manipulation\n",
    "arr = np.array([[1, 2], [3, 4], [5, 6]])\n",
    "\n",
    "arr.reshape(2, 3)        # reshape\n",
    "arr.T                    # transpose\n",
    "arr.flatten()            # convert to 1D\n",
    "np.concatenate([a, b])   # merge arrays"
   ]
  },
  {
   "cell_type": "code",
   "execution_count": null,
   "id": "5f08dfdb",
   "metadata": {},
   "outputs": [],
   "source": [
    "# Boolean Indexing (Filtering)\n",
    "arr = np.array([1, 2, 3, 4, 5])\n",
    "arr[arr > 2]           # Output: [3 4 5]\n",
    "arr[arr % 2 == 0]      # Even numbers: [2 4]\n",
    "\n",
    "# With np.where\n",
    "np.where(arr > 3)      # Output: (array([3, 4]),)\n",
    "arr[np.where(arr > 3)] # Output: [4 5]\n",
    "\n",
    "# Combine Multiple Conditions\n",
    "arr[(arr > 2) & (arr < 5)]     # Output: [3 4]\n",
    "arr[(arr < 2) | (arr > 4)]     # Output: [1 5]\n",
    "# ⚠️ Use &, |, and ~ instead of and, or, not. Wrap conditions in parentheses.\n",
    "\n",
    "# Negation\n",
    "arr[~(arr > 2)]         # Output: [1 2]\n",
    "\n",
    "# Filtering 2D Arrays\n",
    "matrix = np.array([[1, 2, 3],\n",
    "                   [4, 5, 6],\n",
    "                   [7, 8, 9]])\n",
    "\n",
    "matrix[matrix > 5]      # Output: [6 7 8 9]\n",
    "\n",
    "# Set values conditionally\n",
    "arr[arr < 3] = 0        # Replace values < 3 with 0\n",
    "# Result: [0 0 3 4 5]\n",
    "\n",
    "# Using boolean arrays directly\n",
    "mask = np.array([True, False, True, False, True])\n",
    "arr[mask]               # Output: [1 3 5]"
   ]
  },
  {
   "cell_type": "code",
   "execution_count": null,
   "id": "ba7c7a3e",
   "metadata": {},
   "outputs": [
    {
     "name": "stdout",
     "output_type": "stream",
     "text": [
      "[[ 4  6]\n",
      " [10 12]]\n"
     ]
    },
    {
     "data": {
      "text/plain": [
       "'\\nMath equivalent:\\nA = [1,2], [3,4]\\nB = [2,0], [1,3]\\n\\nA x B = [(1 x 2 + 2 x 1), (1 x 0 + 2 x 3)], [(3 x 2 + 4 x 1), (3 x 0 + 4 x 3)]\\n= [4,6], [10,12]\\n'"
      ]
     },
     "execution_count": 9,
     "metadata": {},
     "output_type": "execute_result"
    }
   ],
   "source": [
    "# Matrix & Linear Algebra Operations in NumPy\n",
    "A = np.array([[1, 2],\n",
    "              [3, 4]])\n",
    "\n",
    "B = np.array([[2, 0],\n",
    "              [1, 3]])\n",
    "\n",
    "# 1. Matrix Multiplication (Dot Product)\n",
    "C = A @ B           # or: np.dot(A, B)\n",
    "print(C)  # Output: [[ 4  6]\n",
    "\"\"\"\n",
    "Math equivalent:\n",
    "A = [1,2]\n",
    "    [3,4]\n",
    "\n",
    "B = [2,0]\n",
    "    [1,3]\n",
    "\n",
    "A x B = [(1 x 2 + 2 x 1), (1 x 0 + 2 x 3)], [(3 x 2 + 4 x 1), (3 x 0 + 4 x 3)]\n",
    "= [4,6], [10,12]\n",
    "\"\"\""
   ]
  },
  {
   "cell_type": "code",
   "execution_count": 6,
   "id": "12be0260",
   "metadata": {},
   "outputs": [
    {
     "name": "stdout",
     "output_type": "stream",
     "text": [
      "9.0\n"
     ]
    }
   ],
   "source": [
    "print(234 / 26)"
   ]
  },
  {
   "cell_type": "code",
   "execution_count": 3,
   "id": "a75f9e4d",
   "metadata": {},
   "outputs": [
    {
     "data": {
      "text/plain": [
       "array([[0],\n",
       "       [2],\n",
       "       [4],\n",
       "       [6],\n",
       "       [8]])"
      ]
     },
     "execution_count": 3,
     "metadata": {},
     "output_type": "execute_result"
    }
   ],
   "source": [
    "np.arange(0, 10, 2).reshape(5, 1)"
   ]
  },
  {
   "cell_type": "code",
   "execution_count": 4,
   "id": "2d6aa260",
   "metadata": {},
   "outputs": [
    {
     "data": {
      "text/plain": [
       "array([[1., 1., 1., 1.],\n",
       "       [1., 1., 1., 1.],\n",
       "       [1., 1., 1., 1.]])"
      ]
     },
     "execution_count": 4,
     "metadata": {},
     "output_type": "execute_result"
    }
   ],
   "source": [
    "np.ones((3, 4))"
   ]
  },
  {
   "cell_type": "code",
   "execution_count": 5,
   "id": "d3bd49ee",
   "metadata": {},
   "outputs": [
    {
     "data": {
      "text/plain": [
       "array([[1., 0., 0.],\n",
       "       [0., 1., 0.],\n",
       "       [0., 0., 1.]])"
      ]
     },
     "execution_count": 5,
     "metadata": {},
     "output_type": "execute_result"
    }
   ],
   "source": [
    "# identity matrix\n",
    "np.eye(3)  # 3x3 identity matrix"
   ]
  },
  {
   "cell_type": "code",
   "execution_count": null,
   "id": "c47760a7",
   "metadata": {},
   "outputs": [
    {
     "name": "stdout",
     "output_type": "stream",
     "text": [
      "Array:\n",
      " [[1 2 3]\n",
      " [4 5 6]]\n",
      "Shape: (2, 3)\n",
      "Number of dimensions: 2\n",
      "Size (number of elements): 6\n",
      "Data type: int64\n",
      "Item size (bytes per element): 8\n"
     ]
    }
   ],
   "source": [
    "arr = np.array([[1, 2, 3], [4, 5, 6]])\n",
    "\n",
    "print(\"Array:\\n\", arr)\n",
    "print(\"Shape:\", arr.shape)\n",
    "print(\"Number of dimensions:\", arr.ndim)\n",
    "print(\"Size (number of elements):\", arr.size)\n",
    "print(\"Data type:\", arr.dtype)\n",
    "print(\"Item size (bytes per element):\", arr.itemsize)"
   ]
  }
 ],
 "metadata": {
  "kernelspec": {
   "display_name": "venv",
   "language": "python",
   "name": "python3"
  },
  "language_info": {
   "codemirror_mode": {
    "name": "ipython",
    "version": 3
   },
   "file_extension": ".py",
   "mimetype": "text/x-python",
   "name": "python",
   "nbconvert_exporter": "python",
   "pygments_lexer": "ipython3",
   "version": "3.13.2"
  }
 },
 "nbformat": 4,
 "nbformat_minor": 5
}
