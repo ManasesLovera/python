{
 "cells": [
  {
   "cell_type": "code",
   "execution_count": 15,
   "id": "e6159aa7",
   "metadata": {},
   "outputs": [],
   "source": [
    "import numpy as np"
   ]
  },
  {
   "cell_type": "code",
   "execution_count": 16,
   "id": "6aecab21",
   "metadata": {},
   "outputs": [
    {
     "name": "stdout",
     "output_type": "stream",
     "text": [
      "X:  [1 2 3 4 5]\n",
      "y:  [1 3 3 2 5]\n"
     ]
    }
   ],
   "source": [
    "\"\"\"\n",
    "Step 1: Import libraries and prepare data\n",
    "\"\"\"\n",
    "# Features (hours studied)\n",
    "X = np.array([1, 2, 3, 4, 5])\n",
    "print('X: ',X)\n",
    "\n",
    "# Target (exam score)\n",
    "y = np.array([1, 3, 3, 2, 5])\n",
    "print('y: ',y)"
   ]
  },
  {
   "cell_type": "code",
   "execution_count": 17,
   "id": "7ec590df",
   "metadata": {},
   "outputs": [
    {
     "name": "stdout",
     "output_type": "stream",
     "text": [
      "reshaped X: \n",
      " [[1]\n",
      " [2]\n",
      " [3]\n",
      " [4]\n",
      " [5]]\n",
      "X_b with bias term: \n",
      " [[1. 1.]\n",
      " [1. 2.]\n",
      " [1. 3.]\n",
      " [1. 4.]\n",
      " [1. 5.]]\n"
     ]
    }
   ],
   "source": [
    "\"\"\"\n",
    "Step 2: Add bias term (intercept)\n",
    "To include the intercept in the same formula as the weights, we add a column of 1s to X:\n",
    "y = Xw\n",
    "\"\"\"\n",
    "# Reshape X into a column vector\n",
    "X = X.reshape(-1, 1)\n",
    "print('reshaped X: \\n',X)\n",
    "\n",
    "# Add a column of ones for the intercept\n",
    "X_b = np.c_[np.ones((X.shape[0], 1)), X]  # shape: (n_samples, 2)\n",
    "print('X_b with bias term: \\n',X_b)"
   ]
  },
  {
   "cell_type": "code",
   "execution_count": 21,
   "id": "41f8abce",
   "metadata": {},
   "outputs": [
    {
     "name": "stdout",
     "output_type": "stream",
     "text": [
      "Intercept (bias): 0.7000000000000026\n",
      "Coefficient (weight): 0.7000000000000005\n"
     ]
    }
   ],
   "source": [
    "\"\"\"\n",
    "Step 3: Compute weights with Normal Equation\n",
    "\n",
    "The Normal Equation gives the closed-form solution:\n",
    "w = (X^T * X)^(-1) * X^T * y\n",
    "\n",
    "This vector w will contain [intercept, slope].\n",
    "\"\"\"\n",
    "# Normal Equation\n",
    "theta_best = np.linalg.inv(X_b.T.dot(X_b)).dot(X_b.T).dot(y)\n",
    "\n",
    "intercept, slope = theta_best\n",
    "print(\"Intercept (bias):\", intercept)\n",
    "print(\"Coefficient (weight):\", slope)"
   ]
  },
  {
   "cell_type": "code",
   "execution_count": 19,
   "id": "c3100288",
   "metadata": {},
   "outputs": [
    {
     "name": "stdout",
     "output_type": "stream",
     "text": [
      "New data (hours studied): \n",
      " [[0]\n",
      " [6]]\n",
      "New data with bias term: \n",
      " [[1. 0.]\n",
      " [1. 6.]]\n",
      "Predictions: [-77. 259.]\n"
     ]
    }
   ],
   "source": [
    "\"\"\"\n",
    "Step 4: Make predictions\n",
    "\n",
    "Now we can predict exam scores:\n",
    "\"\"\"\n",
    "# Predict for new data\n",
    "X_new = np.array([[0], [6]])  # 0h and 6h studied\n",
    "X_new_b = np.c_[np.ones((X_new.shape[0], 1)), X_new]\n",
    "\n",
    "print(\"New data (hours studied): \\n\",X_new)\n",
    "print(\"New data with bias term: \\n\",X_new_b)\n",
    "\n",
    "y_pred = X_new_b.dot(theta_best)\n",
    "print(\"Predictions:\", y_pred)"
   ]
  }
 ],
 "metadata": {
  "kernelspec": {
   "display_name": "venv",
   "language": "python",
   "name": "python3"
  },
  "language_info": {
   "codemirror_mode": {
    "name": "ipython",
    "version": 3
   },
   "file_extension": ".py",
   "mimetype": "text/x-python",
   "name": "python",
   "nbconvert_exporter": "python",
   "pygments_lexer": "ipython3",
   "version": "3.13.2"
  }
 },
 "nbformat": 4,
 "nbformat_minor": 5
}
